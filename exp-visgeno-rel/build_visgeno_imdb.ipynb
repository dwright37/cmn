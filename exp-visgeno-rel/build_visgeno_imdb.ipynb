{
 "cells": [
  {
   "cell_type": "code",
   "execution_count": null,
   "metadata": {},
   "outputs": [],
   "source": [
    "cd .."
   ]
  },
  {
   "cell_type": "code",
   "execution_count": null,
   "metadata": {
    "collapsed": true
   },
   "outputs": [],
   "source": [
    "import numpy as np\n",
    "\n",
    "import util.io"
   ]
  },
  {
   "cell_type": "code",
   "execution_count": null,
   "metadata": {},
   "outputs": [],
   "source": [
    "image_data = util.io.load_json('./exp-visgeno-rel/visgeno-dataset/image_data.json')\n",
    "objects = util.io.load_json('./exp-visgeno-rel/visgeno-dataset/objects.json')\n",
    "relationships = util.io.load_json('./exp-visgeno-rel/visgeno-dataset/relationships.json')"
   ]
  },
  {
   "cell_type": "code",
   "execution_count": null,
   "metadata": {},
   "outputs": [],
   "source": [
    "# compute average object number per image\n",
    "count = 0\n",
    "for obj in objects:\n",
    "    count += len(obj['objects'])\n",
    "    \n",
    "print('average objects per image:', count / len(objects))"
   ]
  },
  {
   "cell_type": "code",
   "execution_count": null,
   "metadata": {},
   "outputs": [],
   "source": [
    "# compute average relationship number per image\n",
    "count = 0\n",
    "for rel in relationships:\n",
    "    count += len(rel['relationships'])\n",
    "    \n",
    "print('average relationships per image:', count / len(relationships))"
   ]
  },
  {
   "cell_type": "code",
   "execution_count": null,
   "metadata": {},
   "outputs": [],
   "source": [
    "# collect a list of objects per image (turn into bbox format)\n",
    "# (obj_idx_map, bboxes)\n",
    "imdb = [None for _ in range(len(objects))]"
   ]
  },
  {
   "cell_type": "code",
   "execution_count": null,
   "metadata": {},
   "outputs": [],
   "source": [
    "def _convert_bbox(obj):\n",
    "    x, y, w, h = obj['x'], obj['y'], obj['w'], obj['h']\n",
    "    bbox = [x, y, x+w-1, y+h-1]\n",
    "    return bbox\n",
    "\n",
    "for n_im in range(len(objects)):\n",
    "    img_info = image_data[n_im]\n",
    "    assert(img_info['image_id'] == objects[n_im]['image_id'])\n",
    "    \n",
    "    objs = objects[n_im]['objects']\n",
    "    # a dict mapping object_id to index in the list\n",
    "    obj_idx_map = {objs[n_obj]['object_id']: n_obj for n_obj in range(len(objs))}\n",
    "    # bounding box of each object\n",
    "    obj_bboxes = [_convert_bbox(obj) for obj in objs]\n",
    "        \n",
    "    im_name = img_info['url'].replace('https://cs.stanford.edu/people/rak248/', '')\n",
    "    im_path = './exp-visgeno-rel/visgeno-dataset/' + im_name\n",
    "\n",
    "    imdb[n_im] = dict(image_id=img_info['image_id'], \n",
    "                      obj_idx_map=obj_idx_map,\n",
    "                      bboxes=obj_bboxes,\n",
    "                      im_path=im_path)"
   ]
  },
  {
   "cell_type": "code",
   "execution_count": null,
   "metadata": {
    "scrolled": true
   },
   "outputs": [],
   "source": [
    "# match the relationships to objects\n",
    "for n_im in range(len(relationships)):\n",
    "    img_info = image_data[n_im]\n",
    "    assert(img_info['image_id'] == relationships[n_im]['image_id'])\n",
    "    \n",
    "    rels = relationships[n_im]['relationships']\n",
    "    obj_idx_map = imdb[n_im]['obj_idx_map']\n",
    "    \n",
    "    mapped_rels = []\n",
    "    for rel in rels:\n",
    "        subj_name = rel['subject']['name']\n",
    "        obj_name = rel['object']['name']\n",
    "        predcate_name = rel['predicate']\n",
    "        subj_idx = obj_idx_map[rel['subject']['object_id']]\n",
    "        obj_idx = obj_idx_map[rel['object']['object_id']]\n",
    "        mapped_rels.append((subj_idx, obj_idx, subj_name, predcate_name, obj_name))\n",
    "        \n",
    "    imdb[n_im]['mapped_rels'] = mapped_rels"
   ]
  },
  {
   "cell_type": "code",
   "execution_count": null,
   "metadata": {},
   "outputs": [],
   "source": [
    "partition_file = './exp-visgeno-rel/data/densecap_splits.json'\n",
    "splits = util.io.load_json(partition_file)"
   ]
  },
  {
   "cell_type": "code",
   "execution_count": null,
   "metadata": {
    "collapsed": true
   },
   "outputs": [],
   "source": [
    "rel_data_trn = [rel for rel in rel_data if rel['image_id'] in splits['train']]\n",
    "rel_data_val = [rel for rel in rel_data if rel['image_id'] in splits['val']]\n",
    "rel_data_tst = [rel for rel in rel_data if rel['image_id'] in splits['test']]"
   ]
  },
  {
   "cell_type": "code",
   "execution_count": null,
   "metadata": {
    "collapsed": true
   },
   "outputs": [],
   "source": [
    "util.io.save_numpy_obj(rel_data_trn, './exp-visgeno-rel/data/imdb/imdb_trn.npy')\n",
    "util.io.save_numpy_obj(rel_data_val, './exp-visgeno-rel/data/imdb/imdb_val.npy')\n",
    "util.io.save_numpy_obj(rel_data_tst, './exp-visgeno-rel/data/imdb/imdb_tst.npy')"
   ]
  }
 ],
 "metadata": {
  "anaconda-cloud": {},
  "kernelspec": {
   "display_name": "Python 2",
   "language": "python",
   "name": "python2"
  },
  "language_info": {
   "codemirror_mode": {
    "name": "ipython",
    "version": 2
   },
   "file_extension": ".py",
   "mimetype": "text/x-python",
   "name": "python",
   "nbconvert_exporter": "python",
   "pygments_lexer": "ipython2",
   "version": "2.7.12"
  }
 },
 "nbformat": 4,
 "nbformat_minor": 1
}
