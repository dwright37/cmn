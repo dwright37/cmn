{
 "cells": [
  {
   "cell_type": "code",
   "execution_count": 1,
   "metadata": {},
   "outputs": [
    {
     "name": "stdout",
     "output_type": "stream",
     "text": [
      "/home/dwright/repos/papers/Hu et al 2017\n"
     ]
    }
   ],
   "source": [
    "cd .."
   ]
  },
  {
   "cell_type": "code",
   "execution_count": 2,
   "metadata": {},
   "outputs": [],
   "source": [
    "import os\n",
    "import sys\n",
    "sys.path.append('./exp-refgoog/refgoog-dataset/google_refexp_py_lib/')\n",
    "from refexp import Refexp\n",
    "\n",
    "import tqdm\n",
    "import numpy as np\n",
    "\n",
    "import util.io"
   ]
  },
  {
   "cell_type": "code",
   "execution_count": 3,
   "metadata": {},
   "outputs": [
    {
     "name": "stdout",
     "output_type": "stream",
     "text": [
      "loading annotations into memory...\n",
      "Done (t=18.65s)\n",
      "creating index...\n",
      "index created!\n",
      "Dataset loaded.\n",
      "loading annotations into memory...\n",
      "Done (t=20.70s)\n",
      "creating index...\n",
      "index created!\n",
      "Dataset loaded.\n"
     ]
    }
   ],
   "source": [
    "# Specify datasets path.\n",
    "refexp_filename_trn='./exp-refgoog/refgoog-dataset/google_refexp_dataset_release/google_refexp_train_201511_coco_aligned.json'\n",
    "refexp_filename_val='./exp-refgoog/refgoog-dataset/google_refexp_dataset_release/google_refexp_val_201511_coco_aligned.json'\n",
    "coco_filename='./exp-refgoog/coco-dataset/annotations/instances_train2014.json'\n",
    "val_filename='./exp-refgoog/coco-dataset/annotations/instances_val2014.json'\n",
    "image_dir = '/hdd/dustin/data/coco/images/train2014/'\n",
    "val_image_dir = '/hdd/dustin/data/coco/images/val2014/'\n",
    "\n",
    "# Create Refexp instance.\n",
    "refexp_trn = Refexp(refexp_filename_trn, coco_filename)\n",
    "refexp_val = Refexp(refexp_filename_val, coco_filename)"
   ]
  },
  {
   "cell_type": "code",
   "execution_count": 6,
   "metadata": {},
   "outputs": [],
   "source": [
    "# imdb_format:\n",
    "#   a list of images\n",
    "# each image:\n",
    "#   a dict\n",
    "#   { \"image_path\": \"...\",\n",
    "#     \"regions\": [[[x1, y1, x2, y2], (sentence1, sentence2)], ...],\n",
    "#     \"proposals\": [[x1, y1, x2, y2], ...],\n",
    "#     \"misc\": {\"dataset\": \"coco\", ...} }\n",
    "\n",
    "def build_imdb_from_refexp(refexp, image_dir, n_k=5):\n",
    "    imdb = []\n",
    "\n",
    "    imgIds = refexp.getImgIds()\n",
    "    for n_img_id in tqdm.trange(len(imgIds)):\n",
    "        img_id = imgIds[n_img_id]\n",
    "        img = refexp.loadImgs(img_id)[0]\n",
    "        im_path = os.path.join(image_dir, img['file_name'])\n",
    "        \n",
    "        proposals = np.array([_convert_bbox(c['bounding_box']) for c in img['region_candidates']])\n",
    "        \n",
    "        \n",
    "        regions, categories = _load_refexp_regions(refexp, img_id)\n",
    "        \n",
    "        #Negative samples, select out of category images\n",
    "        cat_ids = [id_ for id_ in refexp.catIds if id_ not in categories]\n",
    "        cat_choices = np.random.choice(len(cat_ids), n_k)\n",
    "        neg_paths = []\n",
    "        neg_proposals = []\n",
    "        for i in range(n_k):\n",
    "            sample_img_ids = refexp.getImgIds(catIds=cat_ids[cat_choices[i]])\n",
    "            sample_id = sample_img_ids[np.random.choice(len(sample_img_ids))]\n",
    "            \n",
    "            ann_ids_coco = refexp.coco.getAnnIds(sample_id)\n",
    "            anns_coco = refexp.coco.loadAnns(ann_ids_coco)\n",
    "            \n",
    "            neg_paths.append(os.path.join(image_dir, refexp.loadImgs(sample_id)[0]['file_name']))\n",
    "            neg_proposals.append(np.asarray([_convert_bbox(ann['bbox']) for ann in anns_coco]))\n",
    "        \n",
    "        misc = {\"dataset\": \"coco-G-Ref\", \"img_id\": img_id}\n",
    "        iminfo = {\"im_path\": im_path, \"regions\": regions, \"proposals\": proposals,\n",
    "                  \"neg_sample\": {\"im_path\": neg_paths, \"proposals\": neg_proposals}, \"misc\": misc}\n",
    "\n",
    "        imdb.append(iminfo)\n",
    "\n",
    "    return imdb\n",
    "\n",
    "def _convert_bbox(bbox_xywh):\n",
    "    x, y, w, h = bbox_xywh\n",
    "    return [x, y, x+w-1, y+h-1]\n",
    "\n",
    "def _load_refexp_regions(refexp, img_id):\n",
    "    ann_ids_gref = refexp.getAnnIds(img_id)\n",
    "    anns_gref = refexp.loadAnns(ann_ids_gref)\n",
    "    ann_ids_coco = refexp.coco.getAnnIds(img_id)\n",
    "    anns_coco = refexp.coco.loadAnns(ann_ids_coco)\n",
    "    \n",
    "    categories = [ann['category_id'] for ann in anns_gref]\n",
    "    \n",
    "    # Align refexp annotations to those in coco\n",
    "    anns_gref_map = {ann_ids_gref[n]: anns_gref[n] for n in range(len(ann_ids_gref))}\n",
    "    for n in range(len(ann_ids_coco)):\n",
    "        if ann_ids_coco[n] in anns_gref_map:\n",
    "            anns_coco[n]['refexp_ids'] = anns_gref_map[ann_ids_coco[n]]['refexp_ids']\n",
    "        else:\n",
    "            anns_coco[n]['refexp_ids'] = []\n",
    "    \n",
    "    # Collect all the ground-truth object bounding boxes from COCO\n",
    "    # Add language annotations to the bounding boxes\n",
    "    regions = [[_convert_bbox(ann['bbox']),\n",
    "                _load_refexp_sentences(refexp, ann['refexp_ids']),\n",
    "                ann['id']] for ann in anns_coco]\n",
    "    return regions, categories\n",
    "\n",
    "def _load_refexp_sentences(refexp, refexp_ids):\n",
    "    exps = [e['raw'] for e in refexp.loadRefexps(refexp_ids)]\n",
    "    return exps"
   ]
  },
  {
   "cell_type": "code",
   "execution_count": 7,
   "metadata": {},
   "outputs": [
    {
     "name": "stderr",
     "output_type": "stream",
     "text": [
      "100%|██████████| 24698/24698 [18:48<00:00, 21.88it/s]\n",
      "100%|██████████| 4650/4650 [00:03<00:00, 1229.29it/s]\n"
     ]
    }
   ],
   "source": [
    "imdb_trn = build_imdb_from_refexp(refexp_trn, image_dir)\n",
    "imdb_val = build_imdb_from_refexp(refexp_val, image_dir, n_k=0)"
   ]
  },
  {
   "cell_type": "code",
   "execution_count": 8,
   "metadata": {},
   "outputs": [],
   "source": [
    "if not os.path.isdir('./exp-refgoog/data/imdb'):\n",
    "    os.mkdir('./exp-refgoog/data/imdb')\n",
    "    \n",
    "util.io.save_json(imdb_trn, '/home/dwright/code/Research/compositional_image_retrieval/exp-googleref/data/imdb/imdb_trn.json')\n",
    "util.io.save_json(imdb_val, '/home/dwright/code/Research/compositional_image_retrieval/exp-googleref/data/imdb/imdb_val.json')"
   ]
  },
  {
   "cell_type": "code",
   "execution_count": null,
   "metadata": {
    "collapsed": true
   },
   "outputs": [],
   "source": []
  }
 ],
 "metadata": {
  "anaconda-cloud": {},
  "kernelspec": {
   "display_name": "Python 2",
   "language": "python",
   "name": "python2"
  },
  "language_info": {
   "codemirror_mode": {
    "name": "ipython",
    "version": 2
   },
   "file_extension": ".py",
   "mimetype": "text/x-python",
   "name": "python",
   "nbconvert_exporter": "python",
   "pygments_lexer": "ipython2",
   "version": "2.7.12"
  }
 },
 "nbformat": 4,
 "nbformat_minor": 1
}
